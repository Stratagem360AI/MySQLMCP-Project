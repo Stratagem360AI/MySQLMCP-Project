{
 "cells": [
  {
   "cell_type": "code",
   "execution_count": 5,
   "metadata": {},
   "outputs": [],
   "source": [
    "# Modularized MySQL MCP Server with LLM Integration\n",
    "\n",
    "# ==================================================\n",
    "# config.py - Configuration Management\n",
    "# ==================================================\n",
    "\n",
    "import os\n",
    "from dataclasses import dataclass\n",
    "from typing import Optional"
   ]
  },
  {
   "cell_type": "code",
   "execution_count": 6,
   "metadata": {},
   "outputs": [],
   "source": [
    "\n",
    "class DatabaseConfig:\n",
    "    \"\"\"Database configuration\"\"\"\n",
    "    host: str = \"localhost\"\n",
    "    port: int = 3306\n",
    "    database: str = \"bigdata\"\n",
    "    username: str = \"root\"\n",
    "    password: str = \"\"\n",
    "    \n",
    "    @classmethod\n",
    "    def from_env(cls) -> 'DatabaseConfig':\n",
    "        \"\"\"Load configuration from environment variables\"\"\"\n",
    "        return cls(\n",
    "            host=os.getenv('DB_HOST', 'localhost'),\n",
    "            port=int(os.getenv('DB_PORT', '3306')),\n",
    "            database=os.getenv('DB_NAME', 'bigdata'),\n",
    "            username=os.getenv('DB_USER', 'root'),\n",
    "            password=os.getenv('DB_PASSWORD', '')\n",
    "        )\n",
    "\n",
    "@dataclass\n",
    "class LLMConfig:\n",
    "    \"\"\"LLM configuration\"\"\"\n",
    "    provider: str = \"openai\"  # openai, anthropic, ollama\n",
    "    api_key: Optional[str] = None\n",
    "    model: str = \"gpt-3.5-turbo\"\n",
    "    base_url: Optional[str] = None  # For local models like Ollama\n",
    "    max_tokens: int = 1000\n",
    "    temperature: float = 0.1\n",
    "    \n",
    "    @classmethod\n",
    "    def from_env(cls) -> 'LLMConfig':\n",
    "        \"\"\"Load LLM configuration from environment variables\"\"\"\n",
    "        return cls(\n",
    "            provider=os.getenv('LLM_PROVIDER', 'openai'),\n",
    "            api_key=os.getenv('LLM_API_KEY'),\n",
    "            model=os.getenv('LLM_MODEL', 'gpt-3.5-turbo'),\n",
    "            base_url=os.getenv('LLM_BASE_URL'),\n",
    "            max_tokens=int(os.getenv('LLM_MAX_TOKENS', '1000')),\n",
    "            temperature=float(os.getenv('LLM_TEMPERATURE', '0.1'))\n",
    "        )"
   ]
  }
 ],
 "metadata": {
  "kernelspec": {
   "display_name": "venv",
   "language": "python",
   "name": "python3"
  },
  "language_info": {
   "codemirror_mode": {
    "name": "ipython",
    "version": 3
   },
   "file_extension": ".py",
   "mimetype": "text/x-python",
   "name": "python",
   "nbconvert_exporter": "python",
   "pygments_lexer": "ipython3",
   "version": "3.13.5"
  }
 },
 "nbformat": 4,
 "nbformat_minor": 2
}
