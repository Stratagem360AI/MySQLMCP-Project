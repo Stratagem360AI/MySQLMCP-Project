{
 "cells": [
  {
   "cell_type": "code",
   "execution_count": 11,
   "metadata": {},
   "outputs": [],
   "source": [
    "# ==================================================\n",
    "# main.py - Main Application Entry Point\n",
    "# ==================================================\n",
    "\n",
    "import sys\n",
    "import os\n",
    "\n",
    "# Add the parent directory to the Python path\n",
    "sys.path.append(os.path.abspath(os.path.join(os.getcwd(), '..')))\n",
    "\n",
    "import logging\n",
    "import sys\n",
    "from pathlib import Path\n",
    "from scripts.config import DatabaseConfig, LLMConfig\n",
    "from scripts.database import MySQLConnection\n",
    "from scripts.llm_client import create_llm_client\n",
    "from scripts.nlp import EnhancedNaturalLanguageProcessor"
   ]
  },
  {
   "cell_type": "code",
   "execution_count": 12,
   "metadata": {},
   "outputs": [],
   "source": [
    "# Configure logging\n",
    "logging.basicConfig(\n",
    "    level=logging.INFO,\n",
    "    format='%(asctime)s - %(name)s - %(levelname)s - %(message)s',\n",
    "    handlers=[\n",
    "        logging.StreamHandler(),\n",
    "        logging.FileHandler('mysql_mcp_server.log')\n",
    "    ]\n",
    ")\n",
    "\n",
    "logger = logging.getLogger(__name__)"
   ]
  },
  {
   "cell_type": "code",
   "execution_count": 13,
   "metadata": {},
   "outputs": [],
   "source": [
    "async def main():\n",
    "    \"\"\"Main function to run the enhanced MCP server\"\"\"\n",
    "    \n",
    "    try:\n",
    "        # Load configurations\n",
    "        db_config = DatabaseConfig.from_env()\n",
    "        llm_config = LLMConfig.from_env()\n",
    "        \n",
    "        # Validate required configurations\n",
    "        if not llm_config.api_key and llm_config.provider == \"openai\":\n",
    "            logger.warning(\"OpenAI API key not provided. Set LLM_API_KEY environment variable.\")\n",
    "            # You might want to fall back to a simpler implementation or exit\n",
    "        \n",
    "        logger.info(f\"Starting MySQL MCP Server with {llm_config.provider} LLM\")\n",
    "        logger.info(f\"Database: {db_config.host}:{db_config.port}/{db_config.database}\")\n",
    "        \n",
    "        # Create and start the server\n",
    "        server = MySQLMCPServer(db_config, llm_config)\n",
    "        \n",
    "        await server.start()\n",
    "        \n",
    "    except KeyboardInterrupt:\n",
    "        logger.info(\"Server interrupted by user\")\n",
    "    except Exception as e:\n",
    "        logger.error(f\"Server error: {e}\", exc_info=True)\n",
    "        sys.exit(1)\n",
    "    finally:\n",
    "        if 'server' in locals():\n",
    "            server.cleanup()"
   ]
  }
 ],
 "metadata": {
  "kernelspec": {
   "display_name": "venv",
   "language": "python",
   "name": "python3"
  },
  "language_info": {
   "codemirror_mode": {
    "name": "ipython",
    "version": 3
   },
   "file_extension": ".py",
   "mimetype": "text/x-python",
   "name": "python",
   "nbconvert_exporter": "python",
   "pygments_lexer": "ipython3",
   "version": "3.13.5"
  }
 },
 "nbformat": 4,
 "nbformat_minor": 2
}
